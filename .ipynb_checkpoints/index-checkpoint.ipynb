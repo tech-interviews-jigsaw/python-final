{
 "cells": [
  {
   "cell_type": "markdown",
   "id": "acbb1717-c052-4ab9-bc86-55e8297f366e",
   "metadata": {},
   "source": [
    "# Python Review Quiz"
   ]
  },
  {
   "cell_type": "markdown",
   "id": "b3dd6518-1400-4e88-bcaf-cbf5f45c394b",
   "metadata": {},
   "source": [
    "### Introduction"
   ]
  },
  {
   "cell_type": "markdown",
   "id": "0c738e93-bbb0-40b8-9124-3eaf441e31ce",
   "metadata": {},
   "source": [
    "In this lesson, we'll work with writing some Python functions."
   ]
  },
  {
   "cell_type": "markdown",
   "id": "74b69c9a-840e-4cc9-bf22-c49c8221124d",
   "metadata": {},
   "source": [
    "### Loading our Data"
   ]
  },
  {
   "cell_type": "code",
   "execution_count": 3,
   "id": "e59207a6-bc77-4e6a-8f93-6464e29e40a2",
   "metadata": {},
   "outputs": [],
   "source": [
    "import pandas as pd\n",
    "\n",
    "df = pd.read_csv('https://raw.githubusercontent.com/tech-interviews-jigsaw/python-final/main/mxmh_survey_results.csv', index_col = 0)\n",
    "df.columns = [c.replace(' ', '_').replace('[', '').replace(']', '').lower() for c in df.columns]"
   ]
  },
  {
   "cell_type": "code",
   "execution_count": 4,
   "id": "02b10fd4-0d9a-48cf-8db6-d05a0e72640a",
   "metadata": {},
   "outputs": [],
   "source": [
    "selected_columns = ['age', 'primary_streaming_service', 'hours_per_day', 'while_working',\n",
    "       'instrumentalist', 'fav_genre', 'exploratory',\n",
    "       'foreign_languages', 'bpm', 'anxiety', 'depression', 'insomnia',\n",
    "       'ocd', 'music_effects']"
   ]
  },
  {
   "cell_type": "code",
   "execution_count": 5,
   "id": "bfc4deb9-f8a9-40a8-8ee1-f271b8d93ee0",
   "metadata": {},
   "outputs": [],
   "source": [
    "selected_df = df[selected_columns]\n",
    "\n",
    "music_records = selected_df.to_dict('records')"
   ]
  },
  {
   "cell_type": "code",
   "execution_count": 6,
   "id": "aae59996-92e0-44b3-997a-b751cc0fc4a8",
   "metadata": {},
   "outputs": [
    {
     "data": {
      "text/plain": [
       "[{'age': 18.0,\n",
       "  'primary_streaming_service': 'Spotify',\n",
       "  'hours_per_day': 3.0,\n",
       "  'while_working': 'Yes',\n",
       "  'instrumentalist': 'Yes',\n",
       "  'fav_genre': 'Latin',\n",
       "  'exploratory': 'Yes',\n",
       "  'foreign_languages': 'Yes',\n",
       "  'bpm': 156.0,\n",
       "  'anxiety': 3.0,\n",
       "  'depression': 0.0,\n",
       "  'insomnia': 1.0,\n",
       "  'ocd': 0.0,\n",
       "  'music_effects': nan},\n",
       " {'age': 63.0,\n",
       "  'primary_streaming_service': 'Pandora',\n",
       "  'hours_per_day': 1.5,\n",
       "  'while_working': 'Yes',\n",
       "  'instrumentalist': 'No',\n",
       "  'fav_genre': 'Rock',\n",
       "  'exploratory': 'Yes',\n",
       "  'foreign_languages': 'No',\n",
       "  'bpm': 119.0,\n",
       "  'anxiety': 7.0,\n",
       "  'depression': 2.0,\n",
       "  'insomnia': 2.0,\n",
       "  'ocd': 1.0,\n",
       "  'music_effects': nan}]"
      ]
     },
     "execution_count": 6,
     "metadata": {},
     "output_type": "execute_result"
    }
   ],
   "source": [
    "music_records[:2]"
   ]
  },
  {
   "cell_type": "markdown",
   "id": "c6c3d3a9-ef36-42a1-ad2d-5648df9119ff",
   "metadata": {},
   "source": [
    "### Filtering and Mapping"
   ]
  },
  {
   "cell_type": "markdown",
   "id": "3a9a0a90-2120-46ca-a825-ab89c16e36af",
   "metadata": {},
   "source": [
    "Begin by writing a function that will allow us to specify a favorite genre, and it will only return records of that genre.  \n",
    "\n",
    "> It should return a list of dictionaries of matching records.  List comprehension is preferred."
   ]
  },
  {
   "cell_type": "code",
   "execution_count": 7,
   "id": "754bc8ee-3bb7-4d32-922f-76c26eab0296",
   "metadata": {},
   "outputs": [],
   "source": [
    "def find_by_genre(music_records, genre):\n",
    "    pass"
   ]
  },
  {
   "cell_type": "code",
   "execution_count": 8,
   "id": "9680f07d-5eba-475a-853d-07a8ea8ffdb0",
   "metadata": {},
   "outputs": [],
   "source": [
    "rock_records = find_by_genre(music_records, 'Rock')\n",
    "\n",
    "# rock_records[:2]\n",
    "\n",
    "# [{'age': 63.0,\n",
    "#   'primary_streaming_service': 'Pandora',\n",
    "#   'hours_per_day': 1.5,\n",
    "#   'while_working': 'Yes',\n",
    "#   'instrumentalist': 'No',\n",
    "#   'fav_genre': 'Rock',\n",
    "#   'exploratory': 'Yes',\n",
    "#   'foreign_languages': 'No',\n",
    "#   'bpm': 119.0,\n",
    "#   'anxiety': 7.0,\n",
    "#   'depression': 2.0,\n",
    "#   'insomnia': 2.0,\n",
    "#   'ocd': 1.0,\n",
    "#   'music_effects': nan},\n",
    "#  {'age': 19.0,\n",
    "#   'primary_streaming_service': 'Spotify',\n",
    "#   'hours_per_day': 6.0,\n",
    "#   'while_working': 'Yes',\n",
    "#   'instrumentalist': 'No',\n",
    "#   'fav_genre': 'Rock',\n",
    "#   'exploratory': 'No',\n",
    "#   'foreign_languages': 'No',\n",
    "#   'bpm': 94.0,\n",
    "#   'anxiety': 2.0,\n",
    "#   'depression': 0.0,\n",
    "#   'insomnia': 0.0,\n",
    "#   'ocd': 0.0,\n",
    "#   'music_effects': 'Improve'}]"
   ]
  },
  {
   "cell_type": "markdown",
   "id": "3b9ac696-0109-490b-8efb-e44c2990b64b",
   "metadata": {},
   "source": [
    "Now write a function that return True if all music records have the same genre, and otherwise will return False."
   ]
  },
  {
   "cell_type": "code",
   "execution_count": 9,
   "id": "95338a91-f767-49f3-b9eb-294d0450d720",
   "metadata": {},
   "outputs": [],
   "source": [
    "def all_same_genre(music_records):\n",
    "    pass"
   ]
  },
  {
   "cell_type": "code",
   "execution_count": 10,
   "id": "fdb8630b-69d4-434c-9472-2578a53ae9cc",
   "metadata": {},
   "outputs": [],
   "source": [
    "all_same_genre(rock_records)"
   ]
  },
  {
   "cell_type": "markdown",
   "id": "b1ee485f-d0bb-4a00-8ccb-e8e4a159b69b",
   "metadata": {},
   "source": [
    "Next write a function called select_attributes that given a list of dictionaries, will return that same list of dictionaries, but each dictionary should only have the specified attributes."
   ]
  },
  {
   "cell_type": "code",
   "execution_count": 45,
   "id": "8a018e3b-9e3e-40b5-ad24-733251cb38b9",
   "metadata": {},
   "outputs": [],
   "source": [
    "specified_attrs = ['age', 'hours_per_day', 'fav_genre', \n",
    " 'bpm', 'anxiety', 'depression', 'insomnia']"
   ]
  },
  {
   "cell_type": "code",
   "execution_count": 11,
   "id": "8749e413-6999-4138-961f-8d4680162ce1",
   "metadata": {},
   "outputs": [],
   "source": [
    "def select_attributes(record, specified_attrs):\n",
    "    pass\n",
    "\n",
    "def records_with_selected_attributes(records, specified_attrs):\n",
    "    pass\n",
    "        "
   ]
  },
  {
   "cell_type": "code",
   "execution_count": 13,
   "id": "b8ed18e6-e351-4f07-b421-38d1e57e76e2",
   "metadata": {},
   "outputs": [],
   "source": [
    "# records_selected_attrs = records_with_selected_attributes(music_records, specified_attrs)"
   ]
  },
  {
   "cell_type": "code",
   "execution_count": 50,
   "id": "26331e3a-1e8d-44a3-9a9e-9937f7e30476",
   "metadata": {},
   "outputs": [
    {
     "data": {
      "text/plain": [
       "[{'age': 18.0,\n",
       "  'hours_per_day': 3.0,\n",
       "  'fav_genre': 'Latin',\n",
       "  'bpm': 156.0,\n",
       "  'anxiety': 3.0,\n",
       "  'depression': 0.0,\n",
       "  'insomnia': 1.0},\n",
       " {'age': 63.0,\n",
       "  'hours_per_day': 1.5,\n",
       "  'fav_genre': 'Rock',\n",
       "  'bpm': 119.0,\n",
       "  'anxiety': 7.0,\n",
       "  'depression': 2.0,\n",
       "  'insomnia': 2.0}]"
      ]
     },
     "execution_count": 50,
     "metadata": {},
     "output_type": "execute_result"
    }
   ],
   "source": [
    "records_selected_attrs[:2]\n",
    "\n",
    "# [{'age': 18.0,\n",
    "#   'hours_per_day': 3.0,\n",
    "#   'fav_genre': 'Latin',\n",
    "#   'bpm': 156.0,\n",
    "#   'anxiety': 3.0,\n",
    "#   'depression': 0.0,\n",
    "#   'insomnia': 1.0},\n",
    "#  {'age': 63.0,\n",
    "#   'hours_per_day': 1.5,\n",
    "#   'fav_genre': 'Rock',\n",
    "#   'bpm': 119.0,\n",
    "#   'anxiety': 7.0,\n",
    "#   'depression': 2.0,\n",
    "#   'insomnia': 2.0}]"
   ]
  },
  {
   "cell_type": "markdown",
   "id": "bea53688-f94a-4904-9a51-3df8845befac",
   "metadata": {},
   "source": [
    "### Data Analysis"
   ]
  },
  {
   "cell_type": "markdown",
   "id": "5170ed5f-b887-454a-bfe1-41da358ac454",
   "metadata": {},
   "source": [
    "Now create a dictionary that has for keys has each of the favorite genres, and for values has the average of the specified attribute. For example if we specify `anxiety`, it will provide the average anxiety level associated with that genre, and if we provide hours per day it will return the average `hours_per_day` associated with that genre.  Round the average to two digits."
   ]
  },
  {
   "cell_type": "code",
   "execution_count": 54,
   "id": "048269b6-deec-49dd-99bb-590dde7376c3",
   "metadata": {},
   "outputs": [],
   "source": [
    "def histogram_builder(music_records, attribute):\n",
    "    pass\n",
    "        \n",
    "\n",
    "anxiety_avg = histogram_builder(music_records, 'anxiety')\n",
    "depression_avg = histogram_builder(music_records, 'depression')\n",
    "hours_per_day_avg = histogram_builder(music_records, 'hours_per_day')"
   ]
  },
  {
   "cell_type": "code",
   "execution_count": 56,
   "id": "0659db48-5613-4623-a796-5b3be6bd62a4",
   "metadata": {},
   "outputs": [
    {
     "name": "stdout",
     "output_type": "stream",
     "text": [
      "{'Lofi': 6.1, 'K pop': 6.23, 'Country': 5.4, 'Metal': 5.76, 'Classical': 4.89, 'Video game music': 5.89, 'Rap': 5.09, 'Hip hop': 6.2, 'Jazz': 5.9, 'EDM': 5.49, 'Latin': 4.33, 'Folk': 6.57, 'Gospel': 4.83, 'Rock': 6.12, 'Pop': 6.07, 'R&B': 5.17}\n"
     ]
    }
   ],
   "source": [
    "print(anxiety_avg)\n",
    "\n",
    "# {'Lofi': 6.1, 'K pop': 6.23, 'Country': 5.4, 'Metal': 5.76, 'Classical': 4.89, 'Video game music': 5.89, 'Rap': 5.09, 'Hip hop': 6.2, 'Jazz': 5.9, 'EDM': 5.49, 'Latin': 4.33, 'Folk': 6.57, 'Gospel': 4.83, 'Rock': 6.12, 'Pop': 6.07, 'R&B': 5.17}"
   ]
  },
  {
   "cell_type": "markdown",
   "id": "9b75ec4c-579c-4f79-a7e0-fe9e7cf0bcfb",
   "metadata": {},
   "source": [
    "So these are our three histograms."
   ]
  },
  {
   "cell_type": "code",
   "execution_count": 60,
   "id": "205e7c88-83f3-4b65-823c-9d14a836351d",
   "metadata": {},
   "outputs": [],
   "source": [
    "# depression_avg"
   ]
  },
  {
   "cell_type": "code",
   "execution_count": 62,
   "id": "1fe6099d-b919-4912-840a-1443076fbd20",
   "metadata": {},
   "outputs": [],
   "source": [
    "anxiety_avg = {'Lofi': 6.1, 'K pop': 6.23, 'Country': 5.4,\n",
    "               'Metal': 5.76, 'Classical': 4.89, 'Video game music': 5.89, 'Rap': 5.09,\n",
    "               'Hip hop': 6.2, 'Jazz': 5.9, 'EDM': 5.49,\n",
    "               'Latin': 4.33, 'Folk': 6.57, 'Gospel': 4.83,\n",
    "               'Rock': 6.12, 'Pop': 6.07, 'R&B': 5.17}\n",
    "depression_avg = {'Lofi': 6.6, 'K pop': 4.42, 'Country': 4.32,\n",
    " 'Metal': 5.07, 'Classical': 4.08, 'Video game music': 4.48, 'Rap': 4.0,\n",
    " 'Hip hop': 5.8, 'Jazz': 4.5, 'EDM': 5.24, 'Latin': 3.0, 'Folk': 5.07, 'Gospel': 2.67,\n",
    " 'Rock': 5.24, 'Pop': 4.49, 'R&B': 3.83}\n",
    "\n",
    "hours_per_day_avg = {'Lofi': 4.2, 'K pop': 4.0, 'Country': 3.42,\n",
    " 'Metal': 3.6, 'Classical': 2.88, 'Video game music': 2.91,\n",
    " 'Rap': 5.32, 'Hip hop': 3.93, 'Jazz': 5.42, 'EDM': 4.59,\n",
    " 'Latin': 6.67, 'Folk': 3.24, 'Gospel': 2.38, 'Rock': 3.63,\n",
    " 'Pop': 2.91, 'R&B': 3.47}"
   ]
  },
  {
   "cell_type": "markdown",
   "id": "182b8c35-0d0b-494f-8783-cb80beff5e3d",
   "metadata": {},
   "source": [
    "Now let's create a nested list where each outer list represents a different genre, and in that list each element is the genre name, the second value is the associated `anxiety_avg`, the second is the associated `depression_avg`, and the last is `hours_per_day_avg`.\n",
    "\n",
    "> You can see the result below."
   ]
  },
  {
   "cell_type": "code",
   "execution_count": 77,
   "id": "d9ae5c89-cd88-4ed3-8fcb-6a933f0117fd",
   "metadata": {},
   "outputs": [
    {
     "data": {
      "text/plain": [
       "[('Classical', 4.89, 4.08, 2.88),\n",
       " ('Country', 5.4, 4.32, 3.42),\n",
       " ('EDM', 5.49, 5.24, 4.59),\n",
       " ('Folk', 6.57, 5.07, 3.24),\n",
       " ('Gospel', 4.83, 2.67, 2.38),\n",
       " ('Hip hop', 6.2, 5.8, 3.93),\n",
       " ('Jazz', 5.9, 4.5, 5.42),\n",
       " ('K pop', 6.23, 4.42, 4.0),\n",
       " ('Latin', 4.33, 3.0, 6.67),\n",
       " ('Lofi', 6.1, 6.6, 4.2),\n",
       " ('Metal', 5.76, 5.07, 3.6),\n",
       " ('Pop', 6.07, 4.49, 2.91),\n",
       " ('R&B', 5.17, 3.83, 3.47),\n",
       " ('Rap', 5.09, 4.0, 5.32),\n",
       " ('Rock', 6.12, 5.24, 3.63),\n",
       " ('Video game music', 5.89, 4.48, 2.91)]"
      ]
     },
     "execution_count": 77,
     "metadata": {},
     "output_type": "execute_result"
    }
   ],
   "source": [
    "avgs = [anxiety_avg, depression_avg, hours_per_day_avg]\n",
    "\n",
    "\n",
    "# [('Classical', 4.89, 4.08, 2.88),\n",
    "#  ('Country', 5.4, 4.32, 3.42),\n",
    "#  ('EDM', 5.49, 5.24, 4.59),\n",
    "#  ('Folk', 6.57, 5.07, 3.24),\n",
    "#  ('Gospel', 4.83, 2.67, 2.38),\n",
    "#  ('Hip hop', 6.2, 5.8, 3.93),\n",
    "#  ('Jazz', 5.9, 4.5, 5.42),\n",
    "#  ('K pop', 6.23, 4.42, 4.0),\n",
    "#  ('Latin', 4.33, 3.0, 6.67),\n",
    "#  ('Lofi', 6.1, 6.6, 4.2),\n",
    "#  ('Metal', 5.76, 5.07, 3.6),\n",
    "#  ('Pop', 6.07, 4.49, 2.91),\n",
    "#  ('R&B', 5.17, 3.83, 3.47),\n",
    "#  ('Rap', 5.09, 4.0, 5.32),\n",
    "#  ('Rock', 6.12, 5.24, 3.63),\n",
    "#  ('Video game music', 5.89, 4.48, 2.91)]"
   ]
  },
  {
   "cell_type": "markdown",
   "id": "ffc7a5e3-f8db-43d7-8032-7e02f3d1beb1",
   "metadata": {},
   "source": [
    "Finally, turn our resulting `genre_avgs` into a dictionary where the keys are the names of the genres, and each value is a *list* of the averages above."
   ]
  },
  {
   "cell_type": "code",
   "execution_count": 80,
   "id": "3e7e2788-d5bd-4000-84f0-d899d6a7e7ed",
   "metadata": {},
   "outputs": [
    {
     "data": {
      "text/plain": [
       "{'Classical': (4.89, 4.08, 2.88),\n",
       " 'Country': (5.4, 4.32, 3.42),\n",
       " 'EDM': (5.49, 5.24, 4.59),\n",
       " 'Folk': (6.57, 5.07, 3.24),\n",
       " 'Gospel': (4.83, 2.67, 2.38),\n",
       " 'Hip hop': (6.2, 5.8, 3.93),\n",
       " 'Jazz': (5.9, 4.5, 5.42),\n",
       " 'K pop': (6.23, 4.42, 4.0),\n",
       " 'Latin': (4.33, 3.0, 6.67),\n",
       " 'Lofi': (6.1, 6.6, 4.2),\n",
       " 'Metal': (5.76, 5.07, 3.6),\n",
       " 'Pop': (6.07, 4.49, 2.91),\n",
       " 'R&B': (5.17, 3.83, 3.47),\n",
       " 'Rap': (5.09, 4.0, 5.32),\n",
       " 'Rock': (6.12, 5.24, 3.63),\n",
       " 'Video game music': (5.89, 4.48, 2.91)}"
      ]
     },
     "execution_count": 80,
     "metadata": {},
     "output_type": "execute_result"
    }
   ],
   "source": [
    "genre_avgs = [('Classical', 4.89, 4.08, 2.88),\n",
    " ('Country', 5.4, 4.32, 3.42),\n",
    " ('EDM', 5.49, 5.24, 4.59),\n",
    " ('Folk', 6.57, 5.07, 3.24),\n",
    " ('Gospel', 4.83, 2.67, 2.38),\n",
    " ('Hip hop', 6.2, 5.8, 3.93),\n",
    " ('Jazz', 5.9, 4.5, 5.42),\n",
    " ('K pop', 6.23, 4.42, 4.0),\n",
    " ('Latin', 4.33, 3.0, 6.67),\n",
    " ('Lofi', 6.1, 6.6, 4.2),\n",
    " ('Metal', 5.76, 5.07, 3.6),\n",
    " ('Pop', 6.07, 4.49, 2.91),\n",
    " ('R&B', 5.17, 3.83, 3.47),\n",
    " ('Rap', 5.09, 4.0, 5.32),\n",
    " ('Rock', 6.12, 5.24, 3.63),\n",
    " ('Video game music', 5.89, 4.48, 2.91)]\n",
    "\n",
    "def build_avg_histogram(genre_avgs):\n",
    "    pass\n",
    "    \n",
    "avg_histogram = build_avg_histogram(genre_avgs)\n",
    "avg_histogram\n",
    "\n",
    "# {'Classical': (4.89, 4.08, 2.88),\n",
    "#  'Country': (5.4, 4.32, 3.42),\n",
    "#  'EDM': (5.49, 5.24, 4.59),\n",
    "#  'Folk': (6.57, 5.07, 3.24),\n",
    "#  'Gospel': (4.83, 2.67, 2.38),\n",
    "#  'Hip hop': (6.2, 5.8, 3.93),\n",
    "#  'Jazz': (5.9, 4.5, 5.42),\n",
    "#  'K pop': (6.23, 4.42, 4.0),\n",
    "#  'Latin': (4.33, 3.0, 6.67),\n",
    "#  'Lofi': (6.1, 6.6, 4.2),\n",
    "#  'Metal': (5.76, 5.07, 3.6),\n",
    "#  'Pop': (6.07, 4.49, 2.91),\n",
    "#  'R&B': (5.17, 3.83, 3.47),\n",
    "#  'Rap': (5.09, 4.0, 5.32),\n",
    "#  'Rock': (6.12, 5.24, 3.63),\n",
    "#  'Video game music': (5.89, 4.48, 2.91)}"
   ]
  },
  {
   "cell_type": "code",
   "execution_count": null,
   "id": "252fc7c8-2019-4d99-afe1-192f4256d76e",
   "metadata": {},
   "outputs": [],
   "source": []
  }
 ],
 "metadata": {
  "kernelspec": {
   "display_name": "Python 3 (ipykernel)",
   "language": "python",
   "name": "python3"
  },
  "language_info": {
   "codemirror_mode": {
    "name": "ipython",
    "version": 3
   },
   "file_extension": ".py",
   "mimetype": "text/x-python",
   "name": "python",
   "nbconvert_exporter": "python",
   "pygments_lexer": "ipython3",
   "version": "3.10.6"
  }
 },
 "nbformat": 4,
 "nbformat_minor": 5
}
